{
 "cells": [
  {
   "cell_type": "code",
   "execution_count": 1,
   "metadata": {
    "executionInfo": {
     "elapsed": 1321,
     "status": "ok",
     "timestamp": 1683393122667,
     "user": {
      "displayName": "Ziyue Tan",
      "userId": "02220849436238497041"
     },
     "user_tz": -480
    },
    "id": "Q8sLwnUNTh26"
   },
   "outputs": [],
   "source": [
    "\n",
    "from pathlib import Path\n",
    "\n",
    "\n",
    "import pandas as pd\n",
    "from sklearn.metrics import adjusted_rand_score, normalized_mutual_info_score, silhouette_score, \\\n",
    "                            homogeneity_completeness_v_measure\n",
    "from sklearn.metrics.cluster import contingency_matrix\n",
    "from sklearn.preprocessing import LabelEncoder\n",
    "import numpy as np\n",
    "\n"
   ]
  },
  {
   "cell_type": "code",
   "execution_count": 2,
   "metadata": {
    "executionInfo": {
     "elapsed": 1,
     "status": "ok",
     "timestamp": 1683393122667,
     "user": {
      "displayName": "Ziyue Tan",
      "userId": "02220849436238497041"
     },
     "user_tz": -480
    },
    "id": "5IPE5euvfFHy"
   },
   "outputs": [],
   "source": [
    "import skmisc"
   ]
  },
  {
   "cell_type": "code",
   "execution_count": 4,
   "metadata": {
    "colab": {
     "base_uri": "https://localhost:8080/",
     "height": 326
    },
    "executionInfo": {
     "elapsed": 9211,
     "status": "ok",
     "timestamp": 1683389397631,
     "user": {
      "displayName": "Ziyue Tan",
      "userId": "02220849436238497041"
     },
     "user_tz": -480
    },
    "id": "HtFEKcWioAis",
    "outputId": "4ba98fc0-aff0-49b3-ee2e-440cc11f3752"
   },
   "outputs": [
    {
     "name": "stdout",
     "output_type": "stream",
     "text": [
      "Looking in indexes: https://pypi.org/simple, https://us-python.pkg.dev/colab-wheels/public/simple/\n",
      "Requirement already satisfied: pillow in /usr/local/lib/python3.10/dist-packages (8.4.0)\n",
      "Collecting pillow\n",
      "  Downloading Pillow-9.5.0-cp310-cp310-manylinux_2_28_x86_64.whl (3.4 MB)\n",
      "\u001b[2K     \u001b[90m━━━━━━━━━━━━━━━━━━━━━━━━━━━━━━━━━━━━━━━━\u001b[0m \u001b[32m3.4/3.4 MB\u001b[0m \u001b[31m39.4 MB/s\u001b[0m eta \u001b[36m0:00:00\u001b[0m\n",
      "\u001b[?25hInstalling collected packages: pillow\n",
      "  Attempting uninstall: pillow\n",
      "    Found existing installation: Pillow 8.4.0\n",
      "    Uninstalling Pillow-8.4.0:\n",
      "      Successfully uninstalled Pillow-8.4.0\n",
      "Successfully installed pillow-9.5.0\n"
     ]
    },
    {
     "data": {
      "application/vnd.colab-display-data+json": {
       "pip_warning": {
        "packages": [
         "PIL"
        ]
       }
      }
     },
     "metadata": {},
     "output_type": "display_data"
    }
   ],
   "source": [
    "pip install --upgrade pillow"
   ]
  },
  {
   "cell_type": "code",
   "execution_count": 3,
   "metadata": {
    "executionInfo": {
     "elapsed": 10305,
     "status": "ok",
     "timestamp": 1683393138545,
     "user": {
      "displayName": "Ziyue Tan",
      "userId": "02220849436238497041"
     },
     "user_tz": -480
    },
    "id": "GfnWizEWo--B"
   },
   "outputs": [],
   "source": [
    "import stlearn as st\n",
    "import scanpy"
   ]
  },
  {
   "cell_type": "code",
   "execution_count": 4,
   "metadata": {
    "colab": {
     "base_uri": "https://localhost:8080/"
    },
    "executionInfo": {
     "elapsed": 3439,
     "status": "ok",
     "timestamp": 1683393205969,
     "user": {
      "displayName": "Ziyue Tan",
      "userId": "02220849436238497041"
     },
     "user_tz": -480
    },
    "id": "Ptk3whTrqCHd",
    "outputId": "fd565ef9-7dff-4fce-d2af-df89059426c9"
   },
   "outputs": [
    {
     "name": "stdout",
     "output_type": "stream",
     "text": [
      "Drive already mounted at /content/drive; to attempt to forcibly remount, call drive.mount(\"/content/drive\", force_remount=True).\n"
     ]
    }
   ],
   "source": [
    "from google.colab import drive\n",
    "drive.mount('/content/drive')"
   ]
  },
  {
   "cell_type": "code",
   "execution_count": 5,
   "metadata": {
    "executionInfo": {
     "elapsed": 1,
     "status": "ok",
     "timestamp": 1683393207846,
     "user": {
      "displayName": "Ziyue Tan",
      "userId": "02220849436238497041"
     },
     "user_tz": -480
    },
    "id": "pKDUAnWLesmj"
   },
   "outputs": [],
   "source": [
    "# all 12 samples\n",
    "sample_list = [\"151507\", \"151508\", \"151509\",\n",
    "               \"151510\", \"151669\", \"151670\",\n",
    "               \"151671\", \"151672\", \"151673\",\n",
    "               \"151674\", \"151675\", \"151676\"]\n",
    "# cluster number of each sample\n",
    "cluster_number = [7, 7, 7,\n",
    "                  7, 5, 5, \n",
    "                  5, 5, 7,\n",
    "                  7, 7, 7]"
   ]
  },
  {
   "cell_type": "code",
   "execution_count": 7,
   "metadata": {
    "executionInfo": {
     "elapsed": 2,
     "status": "ok",
     "timestamp": 1683393212173,
     "user": {
      "displayName": "Ziyue Tan",
      "userId": "02220849436238497041"
     },
     "user_tz": -480
    },
    "id": "fIv0el2LUJgv"
   },
   "outputs": [],
   "source": [
    "BASE_PATH = Path(\"/content/drive/MyDrive/Human_Brain_spatialLIBD\")"
   ]
  },
  {
   "cell_type": "code",
   "execution_count": 8,
   "metadata": {
    "colab": {
     "base_uri": "https://localhost:8080/"
    },
    "executionInfo": {
     "elapsed": 1754986,
     "status": "ok",
     "timestamp": 1683394968179,
     "user": {
      "displayName": "Ziyue Tan",
      "userId": "02220849436238497041"
     },
     "user_tz": -480
    },
    "id": "IFLFyNLahCT1",
    "outputId": "b7d17821-1f83-4c8e-d14b-8fdab96fec32"
   },
   "outputs": [
    {
     "name": "stderr",
     "output_type": "stream",
     "text": [
      "/usr/local/lib/python3.10/dist-packages/anndata/_core/anndata.py:1832: UserWarning: Variable names are not unique. To make them unique, call `.var_names_make_unique`.\n",
      "  utils.warn_names_duplicates(\"var\")\n"
     ]
    },
    {
     "name": "stdout",
     "output_type": "stream",
     "text": [
      "Normalization step is finished in adata.X\n",
      "Log transformation step is finished in adata.X\n"
     ]
    },
    {
     "name": "stderr",
     "output_type": "stream",
     "text": [
      "/usr/local/lib/python3.10/dist-packages/scanpy/preprocessing/_highly_variable_genes.py:62: UserWarning: `flavor='seurat_v3'` expects raw count data, but non-integers were found.\n",
      "  warnings.warn(\n"
     ]
    },
    {
     "name": "stdout",
     "output_type": "stream",
     "text": [
      "PCA is done! Generated in adata.obsm['X_pca'], adata.uns['pca'] and adata.varm['PCs']\n"
     ]
    },
    {
     "name": "stderr",
     "output_type": "stream",
     "text": [
      "Tiling image: 100%|██████████ [ time left: 00:00 ]\n"
     ]
    },
    {
     "name": "stdout",
     "output_type": "stream",
     "text": [
      "Downloading data from https://storage.googleapis.com/tensorflow/keras-applications/resnet/resnet50_weights_tf_dim_ordering_tf_kernels_notop.h5\n",
      "94765736/94765736 [==============================] - 1s 0us/step\n"
     ]
    },
    {
     "name": "stderr",
     "output_type": "stream",
     "text": [
      "Extract feature: 100%|██████████ [ time left: 00:00 ]\n"
     ]
    },
    {
     "name": "stdout",
     "output_type": "stream",
     "text": [
      "The morphology feature is added to adata.obsm['X_morphology']!\n"
     ]
    },
    {
     "name": "stderr",
     "output_type": "stream",
     "text": [
      "Adjusting data: 100%|██████████ [ time left: 00:00 ]\n"
     ]
    },
    {
     "name": "stdout",
     "output_type": "stream",
     "text": [
      "The data adjusted by SME is added to adata.obsm['raw_SME_normalized']\n",
      "Applying Kmeans cluster ...\n"
     ]
    },
    {
     "name": "stderr",
     "output_type": "stream",
     "text": [
      "/usr/local/lib/python3.10/dist-packages/sklearn/cluster/_kmeans.py:1366: FutureWarning: algorithm='auto' is deprecated, it will be removed in 1.3. Using 'lloyd' instead.\n",
      "  warnings.warn(\n"
     ]
    },
    {
     "name": "stdout",
     "output_type": "stream",
     "text": [
      "Kmeans cluster is done! The labels are stored in adata.obs[\"kmeans\"]\n"
     ]
    },
    {
     "name": "stderr",
     "output_type": "stream",
     "text": [
      "/usr/local/lib/python3.10/dist-packages/anndata/_core/anndata.py:1832: UserWarning: Variable names are not unique. To make them unique, call `.var_names_make_unique`.\n",
      "  utils.warn_names_duplicates(\"var\")\n"
     ]
    },
    {
     "name": "stdout",
     "output_type": "stream",
     "text": [
      "Normalization step is finished in adata.X\n",
      "Log transformation step is finished in adata.X\n"
     ]
    },
    {
     "name": "stderr",
     "output_type": "stream",
     "text": [
      "/usr/local/lib/python3.10/dist-packages/scanpy/preprocessing/_highly_variable_genes.py:62: UserWarning: `flavor='seurat_v3'` expects raw count data, but non-integers were found.\n",
      "  warnings.warn(\n"
     ]
    },
    {
     "name": "stdout",
     "output_type": "stream",
     "text": [
      "PCA is done! Generated in adata.obsm['X_pca'], adata.uns['pca'] and adata.varm['PCs']\n"
     ]
    },
    {
     "name": "stderr",
     "output_type": "stream",
     "text": [
      "Tiling image: 100%|██████████ [ time left: 00:00 ]\n",
      "Extract feature: 100%|██████████ [ time left: 00:00 ]\n"
     ]
    },
    {
     "name": "stdout",
     "output_type": "stream",
     "text": [
      "The morphology feature is added to adata.obsm['X_morphology']!\n"
     ]
    },
    {
     "name": "stderr",
     "output_type": "stream",
     "text": [
      "Adjusting data: 100%|██████████ [ time left: 00:00 ]\n"
     ]
    },
    {
     "name": "stdout",
     "output_type": "stream",
     "text": [
      "The data adjusted by SME is added to adata.obsm['raw_SME_normalized']\n",
      "Applying Kmeans cluster ...\n"
     ]
    },
    {
     "name": "stderr",
     "output_type": "stream",
     "text": [
      "/usr/local/lib/python3.10/dist-packages/sklearn/cluster/_kmeans.py:1366: FutureWarning: algorithm='auto' is deprecated, it will be removed in 1.3. Using 'lloyd' instead.\n",
      "  warnings.warn(\n"
     ]
    },
    {
     "name": "stdout",
     "output_type": "stream",
     "text": [
      "Kmeans cluster is done! The labels are stored in adata.obs[\"kmeans\"]\n"
     ]
    },
    {
     "name": "stderr",
     "output_type": "stream",
     "text": [
      "/usr/local/lib/python3.10/dist-packages/anndata/_core/anndata.py:1832: UserWarning: Variable names are not unique. To make them unique, call `.var_names_make_unique`.\n",
      "  utils.warn_names_duplicates(\"var\")\n"
     ]
    },
    {
     "name": "stdout",
     "output_type": "stream",
     "text": [
      "Normalization step is finished in adata.X\n",
      "Log transformation step is finished in adata.X\n"
     ]
    },
    {
     "name": "stderr",
     "output_type": "stream",
     "text": [
      "/usr/local/lib/python3.10/dist-packages/scanpy/preprocessing/_highly_variable_genes.py:62: UserWarning: `flavor='seurat_v3'` expects raw count data, but non-integers were found.\n",
      "  warnings.warn(\n"
     ]
    },
    {
     "name": "stdout",
     "output_type": "stream",
     "text": [
      "PCA is done! Generated in adata.obsm['X_pca'], adata.uns['pca'] and adata.varm['PCs']\n"
     ]
    },
    {
     "name": "stderr",
     "output_type": "stream",
     "text": [
      "Tiling image: 100%|██████████ [ time left: 00:00 ]\n",
      "Extract feature: 100%|██████████ [ time left: 00:00 ]\n"
     ]
    },
    {
     "name": "stdout",
     "output_type": "stream",
     "text": [
      "The morphology feature is added to adata.obsm['X_morphology']!\n"
     ]
    },
    {
     "name": "stderr",
     "output_type": "stream",
     "text": [
      "Adjusting data: 100%|██████████ [ time left: 00:00 ]\n"
     ]
    },
    {
     "name": "stdout",
     "output_type": "stream",
     "text": [
      "The data adjusted by SME is added to adata.obsm['raw_SME_normalized']\n",
      "Applying Kmeans cluster ...\n"
     ]
    },
    {
     "name": "stderr",
     "output_type": "stream",
     "text": [
      "/usr/local/lib/python3.10/dist-packages/sklearn/cluster/_kmeans.py:1366: FutureWarning: algorithm='auto' is deprecated, it will be removed in 1.3. Using 'lloyd' instead.\n",
      "  warnings.warn(\n"
     ]
    },
    {
     "name": "stdout",
     "output_type": "stream",
     "text": [
      "Kmeans cluster is done! The labels are stored in adata.obs[\"kmeans\"]\n"
     ]
    },
    {
     "name": "stderr",
     "output_type": "stream",
     "text": [
      "/usr/local/lib/python3.10/dist-packages/anndata/_core/anndata.py:1832: UserWarning: Variable names are not unique. To make them unique, call `.var_names_make_unique`.\n",
      "  utils.warn_names_duplicates(\"var\")\n"
     ]
    },
    {
     "name": "stdout",
     "output_type": "stream",
     "text": [
      "Normalization step is finished in adata.X\n",
      "Log transformation step is finished in adata.X\n"
     ]
    },
    {
     "name": "stderr",
     "output_type": "stream",
     "text": [
      "/usr/local/lib/python3.10/dist-packages/scanpy/preprocessing/_highly_variable_genes.py:62: UserWarning: `flavor='seurat_v3'` expects raw count data, but non-integers were found.\n",
      "  warnings.warn(\n"
     ]
    },
    {
     "name": "stdout",
     "output_type": "stream",
     "text": [
      "PCA is done! Generated in adata.obsm['X_pca'], adata.uns['pca'] and adata.varm['PCs']\n"
     ]
    },
    {
     "name": "stderr",
     "output_type": "stream",
     "text": [
      "Tiling image: 100%|██████████ [ time left: 00:00 ]\n",
      "Extract feature: 100%|██████████ [ time left: 00:00 ]\n"
     ]
    },
    {
     "name": "stdout",
     "output_type": "stream",
     "text": [
      "The morphology feature is added to adata.obsm['X_morphology']!\n"
     ]
    },
    {
     "name": "stderr",
     "output_type": "stream",
     "text": [
      "Adjusting data: 100%|██████████ [ time left: 00:00 ]\n"
     ]
    },
    {
     "name": "stdout",
     "output_type": "stream",
     "text": [
      "The data adjusted by SME is added to adata.obsm['raw_SME_normalized']\n",
      "Applying Kmeans cluster ...\n"
     ]
    },
    {
     "name": "stderr",
     "output_type": "stream",
     "text": [
      "/usr/local/lib/python3.10/dist-packages/sklearn/cluster/_kmeans.py:1366: FutureWarning: algorithm='auto' is deprecated, it will be removed in 1.3. Using 'lloyd' instead.\n",
      "  warnings.warn(\n"
     ]
    },
    {
     "name": "stdout",
     "output_type": "stream",
     "text": [
      "Kmeans cluster is done! The labels are stored in adata.obs[\"kmeans\"]\n"
     ]
    }
   ],
   "source": [
    "for i in range(len(sample_list)):\n",
    "\n",
    "  #load data\n",
    "  data_PATH = BASE_PATH /\"{}\".format(sample_list[i])\n",
    "  data = st.Read10X(data_PATH, count_file = 'filtered_feature_bc_matrix.h5') \n",
    "\n",
    "  # pre-processing for gene count table\n",
    "  st.pp.filter_genes(data,min_cells=1)\n",
    "  st.pp.normalize_total(data)\n",
    "  st.pp.log1p(data)\n",
    "\n",
    "  # get top 2000 hvgs\n",
    "  scanpy.pp.highly_variable_genes(data, flavor = \"seurat_v3\", n_top_genes = 2000)\n",
    "\n",
    "  res = []\n",
    "  for index in range(len(data.var.highly_variable)):\n",
    "    if data.var.highly_variable[index]:\n",
    "      res.append(index)\n",
    "\n",
    "  data = data[:,res]\n",
    "\n",
    "  # spot tile is the intermediate result of image pre-processing\n",
    "  TILE_PATH = Path(\"/tmp/{}_tiles\".format(sample_list[i]))\n",
    "  TILE_PATH.mkdir(parents=True, exist_ok=True)\n",
    "\n",
    "  # run PCA for gene expression data\n",
    "  st.em.run_pca(data,n_comps=15)\n",
    "  # pre-processing for spot image\n",
    "  st.pp.tiling(data, TILE_PATH)\n",
    "\n",
    "  # this step uses deep learning model to extract high-level features from tile images\n",
    "  # may need few minutes to be completed\n",
    "  st.pp.extract_feature(data)\n",
    "\n",
    "  data_SME = data.copy()\n",
    "\n",
    "  # apply stSME to normalise log transformed data\n",
    "  # with weights from morphological Similarly and physcial distance\n",
    "  st.spatial.SME.SME_normalize(data_SME, use_data=\"raw\",\n",
    "                              weights=\"weights_matrix_pd_md\")\n",
    "  data_SME.X = data_SME.obsm['raw_SME_normalized']\n",
    "\n",
    "  # K-means clustering on stSME normalised PCA\n",
    "  st.tl.clustering.kmeans(data_SME, n_clusters = cluster_number[i],  use_data=\"X_pca\", key_added=\"X_pca_kmeans\")\n",
    " \n",
    "  # save cluster resluts\n",
    "  df = pd.DataFrame(data_SME.obs)\n",
    "  df.to_csv(\"/content/drive/MyDrive/Human_Brain_spatialLIBD/{}.stLearn_filtered_markers.csv\".format(sample_list[i]))\n",
    "\n"
   ]
  }
 ],
 "metadata": {
  "colab": {
   "authorship_tag": "ABX9TyNVtjk5bFfiP8eLsJJ4H4TD",
   "provenance": [],
   "toc_visible": true
  },
  "kernelspec": {
   "display_name": "Python 3 (ipykernel)",
   "language": "python",
   "name": "python3"
  },
  "language_info": {
   "codemirror_mode": {
    "name": "ipython",
    "version": 3
   },
   "file_extension": ".py",
   "mimetype": "text/x-python",
   "name": "python",
   "nbconvert_exporter": "python",
   "pygments_lexer": "ipython3",
   "version": "3.9.12"
  }
 },
 "nbformat": 4,
 "nbformat_minor": 1
}
